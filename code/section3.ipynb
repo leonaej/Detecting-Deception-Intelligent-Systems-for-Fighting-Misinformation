{
 "cells": [
  {
   "cell_type": "markdown",
   "id": "2b93671f",
   "metadata": {},
   "source": [
    "## Model 3: Here we are taking the metadata_sentence and using a transformer"
   ]
  },
  {
   "cell_type": "code",
   "execution_count": 1,
   "id": "8ebc70c0",
   "metadata": {},
   "outputs": [],
   "source": [
    "import pandas as pd\n",
    "import torch\n",
    "from transformers import AutoTokenizer, AutoModelForSequenceClassification, Trainer, TrainingArguments\n",
    "from sklearn.model_selection import train_test_split\n",
    "from sklearn.metrics import accuracy_score\n"
   ]
  },
  {
   "cell_type": "code",
   "execution_count": null,
   "id": "ba501b4b",
   "metadata": {},
   "outputs": [],
   "source": [
    "# We'll use section3 Data\n",
    "# It has: ['statement', 'metadata_sentence', 'binary_label']\n",
    "section3 = pd.read_csv('section3.csv')\n",
    "# Train-test split\n",
    "train_df, test_df = train_test_split(section3, test_size=0.2, random_state=42)\n"
   ]
  },
  {
   "cell_type": "code",
   "execution_count": null,
   "id": "67a5fb8d",
   "metadata": {},
   "outputs": [],
   "source": [
    "# Load tokenizer\n",
    "tokenizer = AutoTokenizer.from_pretrained('distilbert-base-uncased')\n",
    "# Tokenize sentences properly\n",
    "train_encodings = tokenizer(list(train_df['metadata_sentence']), padding='max_length', truncation=True, max_length=128)\n",
    "test_encodings = tokenizer(list(test_df['metadata_sentence']), padding='max_length', truncation=True, max_length=128)\n"
   ]
  },
  {
   "cell_type": "code",
   "execution_count": null,
   "id": "d87f6610",
   "metadata": {},
   "outputs": [],
   "source": [
    "# Defining a custom Dataset class for handling tokenized inputs and labels, then creates train and test datasets\n",
    "\n",
    "\n",
    "import torch\n",
    "\n",
    "class NewsDataset(torch.utils.data.Dataset):\n",
    "    def __init__(self, encodings, labels):\n",
    "        self.encodings = encodings\n",
    "        self.labels = labels\n",
    "\n",
    "    def __getitem__(self, idx):\n",
    "        item = {key: torch.tensor(val[idx]) for key, val in self.encodings.items()}\n",
    "        item['labels'] = torch.tensor(self.labels[idx], dtype=torch.long)\n",
    "\n",
    "        return item\n",
    "\n",
    "    def __len__(self):\n",
    "        return len(self.labels)\n",
    "\n",
    "# Create datasets\n",
    "train_dataset = NewsDataset(train_encodings, train_df['label'].tolist())\n",
    "test_dataset = NewsDataset(test_encodings, test_df['label'].tolist())\n"
   ]
  },
  {
   "cell_type": "code",
   "execution_count": null,
   "id": "afb1830f",
   "metadata": {},
   "outputs": [
    {
     "name": "stderr",
     "output_type": "stream",
     "text": [
      "Some weights of DistilBertForSequenceClassification were not initialized from the model checkpoint at distilbert-base-uncased and are newly initialized: ['classifier.bias', 'classifier.weight', 'pre_classifier.bias', 'pre_classifier.weight']\n",
      "You should probably TRAIN this model on a down-stream task to be able to use it for predictions and inference.\n"
     ]
    }
   ],
   "source": [
    "from transformers import AutoModelForSequenceClassification\n",
    "# Load a pre-trained DistilBERT model\n",
    "model = AutoModelForSequenceClassification.from_pretrained('distilbert-base-uncased', num_labels=2)\n"
   ]
  },
  {
   "cell_type": "code",
   "execution_count": null,
   "id": "69dba61f",
   "metadata": {},
   "outputs": [],
   "source": [
    "from transformers import Trainer, TrainingArguments\n",
    "\n",
    "training_args = TrainingArguments(\n",
    "    output_dir='./results',          \n",
    "    num_train_epochs=3,               \n",
    "    per_device_train_batch_size=16,   \n",
    "    per_device_eval_batch_size=64,    \n",
    "    eval_strategy=\"epoch\",           \n",
    "    save_strategy=\"epoch\",           \n",
    "    logging_dir='./logs',             \n",
    "    logging_steps=10,\n",
    "    load_best_model_at_end=True,\n",
    "    metric_for_best_model=\"accuracy\",\n",
    ")"
   ]
  },
  {
   "cell_type": "code",
   "execution_count": null,
   "id": "8d3aacf9",
   "metadata": {},
   "outputs": [],
   "source": [
    "from sklearn.metrics import accuracy_score\n",
    "\n",
    "def compute_metrics(pred):\n",
    "    labels = pred.label_ids\n",
    "    preds = pred.predictions.argmax(-1)  # Taking the class with highest probability\n",
    "    acc = accuracy_score(labels, preds)\n",
    "    return {\"accuracy\": acc}\n"
   ]
  },
  {
   "cell_type": "code",
   "execution_count": 8,
   "id": "2540ee2e",
   "metadata": {},
   "outputs": [],
   "source": [
    "from transformers import Trainer\n",
    "\n",
    "trainer = Trainer(\n",
    "    model=model,\n",
    "    args=training_args,\n",
    "    train_dataset=train_dataset,\n",
    "    eval_dataset=test_dataset,\n",
    "    compute_metrics=compute_metrics,\n",
    ")\n"
   ]
  },
  {
   "cell_type": "code",
   "execution_count": 9,
   "id": "205e9b19",
   "metadata": {},
   "outputs": [
    {
     "data": {
      "text/html": [
       "\n",
       "    <div>\n",
       "      \n",
       "      <progress value='600' max='600' style='width:300px; height:20px; vertical-align: middle;'></progress>\n",
       "      [600/600 15:46, Epoch 3/3]\n",
       "    </div>\n",
       "    <table border=\"1\" class=\"dataframe\">\n",
       "  <thead>\n",
       " <tr style=\"text-align: left;\">\n",
       "      <th>Epoch</th>\n",
       "      <th>Training Loss</th>\n",
       "      <th>Validation Loss</th>\n",
       "      <th>Accuracy</th>\n",
       "    </tr>\n",
       "  </thead>\n",
       "  <tbody>\n",
       "    <tr>\n",
       "      <td>1</td>\n",
       "      <td>0.665200</td>\n",
       "      <td>0.660511</td>\n",
       "      <td>0.603750</td>\n",
       "    </tr>\n",
       "    <tr>\n",
       "      <td>2</td>\n",
       "      <td>0.621600</td>\n",
       "      <td>0.658146</td>\n",
       "      <td>0.622500</td>\n",
       "    </tr>\n",
       "    <tr>\n",
       "      <td>3</td>\n",
       "      <td>0.655600</td>\n",
       "      <td>0.652143</td>\n",
       "      <td>0.626250</td>\n",
       "    </tr>\n",
       "  </tbody>\n",
       "</table><p>"
      ],
      "text/plain": [
       "<IPython.core.display.HTML object>"
      ]
     },
     "metadata": {},
     "output_type": "display_data"
    },
    {
     "data": {
      "text/plain": [
       "TrainOutput(global_step=600, training_loss=0.6502100642522176, metrics={'train_runtime': 949.3968, 'train_samples_per_second': 10.112, 'train_steps_per_second': 0.632, 'total_flos': 317921756774400.0, 'train_loss': 0.6502100642522176, 'epoch': 3.0})"
      ]
     },
     "execution_count": 9,
     "metadata": {},
     "output_type": "execute_result"
    }
   ],
   "source": [
    "trainer.train()\n"
   ]
  },
  {
   "cell_type": "code",
   "execution_count": null,
   "id": "547d3f6c",
   "metadata": {},
   "outputs": [],
   "source": [
    "#saving the model\n",
    "trainer.save_model('section3_transformer_model')"
   ]
  },
  {
   "cell_type": "code",
   "execution_count": null,
   "id": "a1a18418",
   "metadata": {},
   "outputs": [
    {
     "data": {
      "text/html": [],
      "text/plain": [
       "<IPython.core.display.HTML object>"
      ]
     },
     "metadata": {},
     "output_type": "display_data"
    }
   ],
   "source": [
    "#predicting on test set\n",
    "predictions_output = trainer.predict(test_dataset)"
   ]
  },
  {
   "cell_type": "code",
   "execution_count": null,
   "id": "c44ce01b",
   "metadata": {},
   "outputs": [],
   "source": [
    "import torch\n",
    "probs = torch.nn.functional.softmax(torch.tensor(predictions_output.predictions), dim=1)[:, 1].numpy()"
   ]
  },
  {
   "cell_type": "code",
   "execution_count": null,
   "id": "eff9798d",
   "metadata": {},
   "outputs": [
    {
     "name": "stdout",
     "output_type": "stream",
     "text": [
      "                                           statement  label  \\\n",
      "0  Obama says Iran is a 'tiny' country, 'doesn't ...  False   \n",
      "1  Says Republican candidates in Oregon are advoc...  False   \n",
      "2  Rob Cornilles has disputed for two years a new...  False   \n",
      "3  I dont own a single stock or bond I have no sa...   True   \n",
      "4  Regarding the Iraq War, I was the one that sai...  False   \n",
      "\n",
      "   predicted_percentage_true  \n",
      "0                   0.423365  \n",
      "1                   0.742093  \n",
      "2                   0.381915  \n",
      "3                   0.671264  \n",
      "4                   0.178504  \n"
     ]
    }
   ],
   "source": [
    "# Creating a DataFrame with test statements, true labels, and predicted probabilities,saving to a CSV file\n",
    "\n",
    "import pandas as pd\n",
    "# Online code used\n",
    "final_df = pd.DataFrame({\n",
    "    'statement': test_df['statement'].values,\n",
    "    'label': test_df['label'].values,  \n",
    "    'predicted_percentage_true': probs\n",
    "})\n",
    "\n",
    "final_df.to_csv('section3_predictions.csv', index=False)\n",
    "\n",
    "print(final_df.head())\n"
   ]
  },
  {
   "cell_type": "code",
   "execution_count": null,
   "id": "847e3d18",
   "metadata": {},
   "outputs": [
    {
     "name": "stdout",
     "output_type": "stream",
     "text": [
      "Test Accuracy based on 0.5 threshold: 0.6262\n"
     ]
    }
   ],
   "source": [
    "#printing the performance\n",
    "from sklearn.metrics import accuracy_score\n",
    "\n",
    "predicted_labels = (probs > 0.5).astype(int)\n",
    "\n",
    "test_accuracy = accuracy_score(test_df['label'].values, predicted_labels)\n",
    "print(f\"Test Accuracy based on 0.5 threshold: {test_accuracy:.4f}\")\n"
   ]
  },
  {
   "cell_type": "code",
   "execution_count": null,
   "id": "73c6e23c",
   "metadata": {},
   "outputs": [
    {
     "data": {
      "text/html": [],
      "text/plain": [
       "<IPython.core.display.HTML object>"
      ]
     },
     "metadata": {},
     "output_type": "display_data"
    }
   ],
   "source": [
    "predictions = trainer.predict(test_dataset)"
   ]
  },
  {
   "cell_type": "code",
   "execution_count": null,
   "id": "ee9a2dbe",
   "metadata": {},
   "outputs": [
    {
     "name": "stdout",
     "output_type": "stream",
     "text": [
      "Accuracy : 0.6262\n",
      "Precision: 0.6583\n",
      "Recall   : 0.7705\n",
      "F1 Score : 0.7100\n"
     ]
    }
   ],
   "source": [
    "# Printing the metrics\n",
    "\n",
    "from sklearn.metrics import accuracy_score, precision_score, recall_score, f1_score\n",
    "\n",
    "#getting predicted and true labels\n",
    "y_pred = predictions.predictions.argmax(axis=1)\n",
    "y_true = predictions.label_ids\n",
    "\n",
    "#calculate metrics\n",
    "accuracy = accuracy_score(y_true, y_pred)\n",
    "precision = precision_score(y_true, y_pred)\n",
    "recall = recall_score(y_true, y_pred)\n",
    "f1 = f1_score(y_true, y_pred)\n",
    "\n",
    "print(f\"Accuracy : {accuracy:.4f}\")\n",
    "print(f\"Precision: {precision:.4f}\")\n",
    "print(f\"Recall   : {recall:.4f}\")\n",
    "\n",
    "print(f\"F1 Score : {f1:.4f}\")\n"
   ]
  }
 ],
 "metadata": {
  "kernelspec": {
   "display_name": "mlproj",
   "language": "python",
   "name": "python3"
  },
  "language_info": {
   "codemirror_mode": {
    "name": "ipython",
    "version": 3
   },
   "file_extension": ".py",
   "mimetype": "text/x-python",
   "name": "python",
   "nbconvert_exporter": "python",
   "pygments_lexer": "ipython3",
   "version": "3.10.16"
  }
 },
 "nbformat": 4,
 "nbformat_minor": 5
}
