{
 "cells": [
  {
   "cell_type": "markdown",
   "id": "924edc53",
   "metadata": {},
   "source": [
    "## Model 1: Here we are taking just the statements from the dataset and send this to a transformer and get percentage score of how confident the model is the statement is true "
   ]
  },
  {
   "cell_type": "code",
   "execution_count": 3,
   "id": "9b300225",
   "metadata": {},
   "outputs": [],
   "source": [
    "import pandas as pd\n",
    "import torch\n",
    "from transformers import AutoTokenizer, AutoModelForSequenceClassification, Trainer, TrainingArguments\n",
    "from sklearn.model_selection import train_test_split\n",
    "from sklearn.metrics import accuracy_score\n"
   ]
  },
  {
   "cell_type": "code",
   "execution_count": 4,
   "id": "d92dc14a",
   "metadata": {},
   "outputs": [
    {
     "name": "stdout",
     "output_type": "stream",
     "text": [
      "['json', 'label', 'statement', 'subject', 'speaker', 'job', 'state', 'party', 'barely_true_ct', 'false_ct', 'half_true_ct', 'mostly_true_ct', 'pants_on_fire_ct', 'context']\n"
     ]
    }
   ],
   "source": [
    "# Using the statement column from the original dataset, reaeding the data \n",
    "df = pd.read_csv('original_features.csv')\n",
    "print(df.columns.tolist())\n"
   ]
  },
  {
   "cell_type": "code",
   "execution_count": 5,
   "id": "5b6915e1",
   "metadata": {},
   "outputs": [],
   "source": [
    "train_df, test_df = train_test_split(df, test_size=0.2, random_state=42)"
   ]
  },
  {
   "cell_type": "code",
   "execution_count": 6,
   "id": "d0027ec4",
   "metadata": {},
   "outputs": [],
   "source": [
    "#making the train and test endcodings from statement \n",
    "tokenizer = AutoTokenizer.from_pretrained('distilbert-base-uncased')\n",
    "\n",
    "train_encodings = tokenizer(list(train_df['statement']), padding='max_length', truncation=True, max_length=128)\n",
    "test_encodings = tokenizer(list(test_df['statement']), padding='max_length', truncation=True, max_length=128)\n"
   ]
  },
  {
   "cell_type": "code",
   "execution_count": 7,
   "id": "160c83d7",
   "metadata": {},
   "outputs": [],
   "source": [
    "# Custom PyTorch Dataset for tokenized text and labels\n",
    "\n",
    "class NewsDataset(torch.utils.data.Dataset):\n",
    "    def __init__(self, encodings, labels):\n",
    "        self.encodings = encodings\n",
    "        self.labels = labels\n",
    "    # online code used here\n",
    "    def __getitem__(self, idx):\n",
    "        item = {key: torch.tensor(val[idx]) for key, val in self.encodings.items()}\n",
    "        item['labels'] = torch.tensor(self.labels[idx], dtype=torch.long)\n",
    "        return item\n",
    "\n",
    "    def __len__(self):\n",
    "        return len(self.labels)\n",
    "\n",
    "train_dataset = NewsDataset(train_encodings, train_df['label'].tolist())\n",
    "test_dataset = NewsDataset(test_encodings, test_df['label'].tolist())\n"
   ]
  },
  {
   "cell_type": "code",
   "execution_count": 8,
   "id": "2c2de54d",
   "metadata": {},
   "outputs": [
    {
     "name": "stderr",
     "output_type": "stream",
     "text": [
      "Some weights of DistilBertForSequenceClassification were not initialized from the model checkpoint at distilbert-base-uncased and are newly initialized: ['classifier.bias', 'classifier.weight', 'pre_classifier.bias', 'pre_classifier.weight']\n",
      "You should probably TRAIN this model on a down-stream task to be able to use it for predictions and inference.\n"
     ]
    }
   ],
   "source": [
    "model = AutoModelForSequenceClassification.from_pretrained('distilbert-base-uncased', num_labels=2)"
   ]
  },
  {
   "cell_type": "code",
   "execution_count": 9,
   "id": "b499ea70",
   "metadata": {},
   "outputs": [],
   "source": [
    "training_args = TrainingArguments(\n",
    "    output_dir='./results_section1',\n",
    "    num_train_epochs=3,\n",
    "    per_device_train_batch_size=16,\n",
    "    per_device_eval_batch_size=64,\n",
    "    eval_strategy=\"epoch\",          \n",
    "    save_strategy=\"epoch\",\n",
    "    logging_dir='./logs_section1',\n",
    "    logging_steps=10,\n",
    "    load_best_model_at_end=True,\n",
    "    metric_for_best_model=\"accuracy\",\n",
    ")\n"
   ]
  },
  {
   "cell_type": "code",
   "execution_count": 10,
   "id": "f424af2f",
   "metadata": {},
   "outputs": [],
   "source": [
    "def compute_metrics(pred):\n",
    "    labels = pred.label_ids\n",
    "    preds = pred.predictions.argmax(-1)\n",
    "    acc = accuracy_score(labels, preds)\n",
    "    return {\"accuracy\": acc}\n"
   ]
  },
  {
   "cell_type": "code",
   "execution_count": 11,
   "id": "817302f5",
   "metadata": {},
   "outputs": [],
   "source": [
    "trainer = Trainer(\n",
    "    model=model,\n",
    "    args=training_args,\n",
    "    train_dataset=train_dataset,\n",
    "    eval_dataset=test_dataset,\n",
    "    compute_metrics=compute_metrics,\n",
    ")\n"
   ]
  },
  {
   "cell_type": "code",
   "execution_count": 12,
   "id": "39f75798",
   "metadata": {},
   "outputs": [
    {
     "data": {
      "text/html": [
       "\n",
       "    <div>\n",
       "      \n",
       "      <progress value='600' max='600' style='width:300px; height:20px; vertical-align: middle;'></progress>\n",
       "      [600/600 13:16, Epoch 3/3]\n",
       "    </div>\n",
       "    <table border=\"1\" class=\"dataframe\">\n",
       "  <thead>\n",
       " <tr style=\"text-align: left;\">\n",
       "      <th>Epoch</th>\n",
       "      <th>Training Loss</th>\n",
       "      <th>Validation Loss</th>\n",
       "      <th>Accuracy</th>\n",
       "    </tr>\n",
       "  </thead>\n",
       "  <tbody>\n",
       "    <tr>\n",
       "      <td>1</td>\n",
       "      <td>0.630000</td>\n",
       "      <td>0.657949</td>\n",
       "      <td>0.621250</td>\n",
       "    </tr>\n",
       "    <tr>\n",
       "      <td>2</td>\n",
       "      <td>0.586600</td>\n",
       "      <td>0.697057</td>\n",
       "      <td>0.597500</td>\n",
       "    </tr>\n",
       "    <tr>\n",
       "      <td>3</td>\n",
       "      <td>0.384600</td>\n",
       "      <td>0.910009</td>\n",
       "      <td>0.577500</td>\n",
       "    </tr>\n",
       "  </tbody>\n",
       "</table><p>"
      ],
      "text/plain": [
       "<IPython.core.display.HTML object>"
      ]
     },
     "metadata": {},
     "output_type": "display_data"
    },
    {
     "data": {
      "text/plain": [
       "TrainOutput(global_step=600, training_loss=0.5378586912155151, metrics={'train_runtime': 798.6469, 'train_samples_per_second': 12.02, 'train_steps_per_second': 0.751, 'total_flos': 317921756774400.0, 'train_loss': 0.5378586912155151, 'epoch': 3.0})"
      ]
     },
     "execution_count": 12,
     "metadata": {},
     "output_type": "execute_result"
    }
   ],
   "source": [
    "# Training the model on 3 epochs\n",
    "trainer.train()"
   ]
  },
  {
   "cell_type": "code",
   "execution_count": 13,
   "id": "77ba14e3",
   "metadata": {},
   "outputs": [
    {
     "data": {
      "text/plain": [
       "('section1/only_statement\\\\tokenizer_config.json',\n",
       " 'section1/only_statement\\\\special_tokens_map.json',\n",
       " 'section1/only_statement\\\\vocab.txt',\n",
       " 'section1/only_statement\\\\added_tokens.json',\n",
       " 'section1/only_statement\\\\tokenizer.json')"
      ]
     },
     "execution_count": 13,
     "metadata": {},
     "output_type": "execute_result"
    }
   ],
   "source": [
    "# saving the model\n",
    "\n",
    "# Saving both the fine-tuned DistilBERT model and tokenizer \n",
    "save_directory = \"section1/only_statement\"\n",
    "\n",
    "model.save_pretrained(save_directory)\n",
    "tokenizer.save_pretrained(save_directory)\n"
   ]
  },
  {
   "cell_type": "code",
   "execution_count": 14,
   "id": "e196fee6",
   "metadata": {},
   "outputs": [
    {
     "data": {
      "text/html": [],
      "text/plain": [
       "<IPython.core.display.HTML object>"
      ]
     },
     "metadata": {},
     "output_type": "display_data"
    },
    {
     "name": "stdout",
     "output_type": "stream",
     "text": [
      "                                           statement  label  \\\n",
      "0  Obama says Iran is a 'tiny' country, 'doesn't ...  False   \n",
      "1  Says Republican candidates in Oregon are advoc...  False   \n",
      "2  Rob Cornilles has disputed for two years a new...  False   \n",
      "3  I dont own a single stock or bond I have no sa...   True   \n",
      "4  Regarding the Iraq War, I was the one that sai...  False   \n",
      "\n",
      "   predicted_percentage_true  \n",
      "0                   0.489328  \n",
      "1                   0.457405  \n",
      "2                   0.565089  \n",
      "3                   0.524439  \n",
      "4                   0.470493  \n"
     ]
    }
   ],
   "source": [
    "### Evaluate the model\n",
    "\n",
    "predictions_output = trainer.predict(test_dataset)\n",
    "#probabilities\n",
    "probs = torch.nn.functional.softmax(torch.tensor(predictions_output.predictions), dim=1)[:, 1].numpy()\n",
    "# Save to a dataframe\n",
    "final_df = pd.DataFrame({\n",
    "    'statement': test_df['statement'].values,\n",
    "    'label': test_df['label'].values,\n",
    "    'predicted_percentage_true': probs\n",
    "})\n",
    "\n",
    "final_df.to_csv('section1_predictions.csv', index=False)\n",
    "\n",
    "print(final_df.head())\n"
   ]
  },
  {
   "cell_type": "code",
   "execution_count": 15,
   "id": "32d3c351",
   "metadata": {},
   "outputs": [
    {
     "data": {
      "text/html": [],
      "text/plain": [
       "<IPython.core.display.HTML object>"
      ]
     },
     "metadata": {},
     "output_type": "display_data"
    }
   ],
   "source": [
    "# Get predictions from Trainer output\n",
    "predictions_output = trainer.predict(test_dataset)\n",
    "# Extract predicted labels\n",
    "y_pred = predictions_output.predictions.argmax(axis=1)\n",
    "y_true = predictions_output.label_ids\n"
   ]
  },
  {
   "cell_type": "code",
   "execution_count": 16,
   "id": "f474e2c9",
   "metadata": {},
   "outputs": [
    {
     "name": "stdout",
     "output_type": "stream",
     "text": [
      "Accuracy:  0.6212\n",
      "Precision: 0.6335\n",
      "Recall:    0.8589\n",
      "F1 Score:  0.7292\n"
     ]
    }
   ],
   "source": [
    "#printing the metrics\n",
    "\n",
    "\n",
    "from sklearn.metrics import accuracy_score, precision_score, recall_score\n",
    "\n",
    "# Compute metrics\n",
    "accuracy = accuracy_score(y_true, y_pred)\n",
    "precision = precision_score(y_true, y_pred)\n",
    "recall = recall_score(y_true, y_pred)\n",
    "\n",
    "# Print metrics\n",
    "print(f\"Accuracy:  {accuracy:.4f}\")\n",
    "print(f\"Precision: {precision:.4f}\")\n",
    "print(f\"Recall:    {recall:.4f}\")\n",
    "print(f\"F1 Score:  {2 * (precision * recall) / (precision + recall):.4f}\")\n"
   ]
  }
 ],
 "metadata": {
  "kernelspec": {
   "display_name": "mlproj",
   "language": "python",
   "name": "python3"
  },
  "language_info": {
   "codemirror_mode": {
    "name": "ipython",
    "version": 3
   },
   "file_extension": ".py",
   "mimetype": "text/x-python",
   "name": "python",
   "nbconvert_exporter": "python",
   "pygments_lexer": "ipython3",
   "version": "3.10.16"
  }
 },
 "nbformat": 4,
 "nbformat_minor": 5
}
